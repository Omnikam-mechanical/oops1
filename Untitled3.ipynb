{
  "nbformat": 4,
  "nbformat_minor": 0,
  "metadata": {
    "colab": {
      "provenance": [],
      "authorship_tag": "ABX9TyO7Z7nOyIv/g8Ly7y+DYRo/",
      "include_colab_link": true
    },
    "kernelspec": {
      "name": "python3",
      "display_name": "Python 3"
    },
    "language_info": {
      "name": "python"
    }
  },
  "cells": [
    {
      "cell_type": "markdown",
      "metadata": {
        "id": "view-in-github",
        "colab_type": "text"
      },
      "source": [
        "<a href=\"https://colab.research.google.com/github/Omnikam-mechanical/oops1/blob/main/Untitled3.ipynb\" target=\"_parent\"><img src=\"https://colab.research.google.com/assets/colab-badge.svg\" alt=\"Open In Colab\"/></a>"
      ]
    },
    {
      "cell_type": "code",
      "execution_count": 16,
      "metadata": {
        "id": "7HdUeyGhDqm1",
        "colab": {
          "base_uri": "https://localhost:8080/",
          "height": 123
        },
        "outputId": "aa8e0f0c-039f-4fa2-ada7-20032c94f9d8"
      },
      "outputs": [
        {
          "output_type": "execute_result",
          "data": {
            "text/plain": [
              "\"The five key concepts of Object-Oriented Programming (OOP) are:\\n\\n1. Encapsulation: Encapsulation is the concept of bundling data (attributes) and\\n methods (functions) that operate on the data into a single unit, or class.\\n It also involves restricting access to certain details of an object,\\nexposing only what is necessary (using access modifiers like `private`, `public`, and `protected`).\\nThis helps to protect the internal state of the object and promote modularity.\\n\\n2. Abstraction: Abstraction focuses on hiding complex implementation details and\\nexposing only the essential features of an object. It allows the user to interact\\nwith an object at a high level without needing to understand its intricate\\nworkings.\\nFor example, a car's interface (steering wheel, pedals) abstracts away the complex inner workings of the engine.\\n\\n3. Inheritance: Inheritance allows a new class (child or subclass) to\\ninherit properties and behaviors (methods) from an existing class (parent or superclass).\\nThis promotes code reusability and hierarchical relationships between classes. The subclass can extend or modify the behavior of the parent class.\\n\\n4. Polymorphism: Polymorphism allows objects of different classes to be\\n treated as instances of the same class through a common interface.\\nIt enables a single function, method, or operator to work in different ways based on the object that it is acting upon. There are two types:\\n   -Compile-time polymorphism (method overloading, operator overloading)\\n   -Runtime polymorphism (method overriding)\\n\\n5. Object: Objects are instances of classes and represent real-world entities or concepts. An object holds data in the form of attributes and can perform actions through methods.\\nEach object has its own state and behavior.\\n\\nThese principles work together to form the foundation of OOP, making it easier to manage and scale complex software systems.\""
            ],
            "application/vnd.google.colaboratory.intrinsic+json": {
              "type": "string"
            }
          },
          "metadata": {},
          "execution_count": 16
        }
      ],
      "source": [
        "#1What are the five key concepts of Object-Oriented Programming\n",
        "'''The five key concepts of Object-Oriented Programming (OOP) are:\n",
        "\n",
        "1. Encapsulation: Encapsulation is the concept of bundling data (attributes) and\n",
        " methods (functions) that operate on the data into a single unit, or class.\n",
        " It also involves restricting access to certain details of an object,\n",
        "exposing only what is necessary (using access modifiers like `private`, `public`, and `protected`).\n",
        "This helps to protect the internal state of the object and promote modularity.\n",
        "\n",
        "2. Abstraction: Abstraction focuses on hiding complex implementation details and\n",
        "exposing only the essential features of an object. It allows the user to interact\n",
        "with an object at a high level without needing to understand its intricate\n",
        "workings.\n",
        "For example, a car's interface (steering wheel, pedals) abstracts away the complex inner workings of the engine.\n",
        "\n",
        "3. Inheritance: Inheritance allows a new class (child or subclass) to\n",
        "inherit properties and behaviors (methods) from an existing class (parent or superclass).\n",
        "This promotes code reusability and hierarchical relationships between classes. The subclass can extend or modify the behavior of the parent class.\n",
        "\n",
        "4. Polymorphism: Polymorphism allows objects of different classes to be\n",
        " treated as instances of the same class through a common interface.\n",
        "It enables a single function, method, or operator to work in different ways based on the object that it is acting upon. There are two types:\n",
        "   -Compile-time polymorphism (method overloading, operator overloading)\n",
        "   -Runtime polymorphism (method overriding)\n",
        "\n",
        "5. Object: Objects are instances of classes and represent real-world entities or concepts. An object holds data in the form of attributes and can perform actions through methods.\n",
        "Each object has its own state and behavior.\n",
        "\n",
        "These principles work together to form the foundation of OOP, making it easier to manage and scale complex software systems.'''"
      ]
    },
    {
      "cell_type": "code",
      "source": [
        "#2Write a Python class for a with attributes for `make, model, and `year. Include a method to display the car's information.\n",
        "class Car:\n",
        "    def __init__(self, make, model, year):\n",
        "        self.make = make\n",
        "        self.model = model\n",
        "        self.year = year\n",
        "\n",
        "    def display_info(self):\n",
        "        print(f\"Car Information: {self.year} {self.make} {self.model}\")\n",
        "\n",
        "# Example usage:\n",
        "car = Car(\"Toyota\", \"Camry\", 2022)\n",
        "car.display_info()\n"
      ],
      "metadata": {
        "id": "NaDJPXvtEwH_",
        "colab": {
          "base_uri": "https://localhost:8080/"
        },
        "outputId": "4580b27d-4134-4d3f-9398-cffaf4f18397"
      },
      "execution_count": 15,
      "outputs": [
        {
          "output_type": "stream",
          "name": "stdout",
          "text": [
            "Car Information: 2022 Toyota Camry\n"
          ]
        }
      ]
    },
    {
      "cell_type": "code",
      "source": [
        "#3Explain the difference between instance methods and class methods\n",
        "'''In Python, instance methods and class methods are two types of methods that differ in how they are called and how they interact with class data.\n",
        "Here’s the breakdown of their differences:\n",
        "\n",
        " 1. Instance Methods:\n",
        "- Definition: Instance methods are functions defined inside a class and are called on an instance (object) of that class. These methods automatically take the instance (referred to as `self`) as the first parameter, allowing them to access and modify instance-specific data (attributes).\n",
        "\n",
        "- How to call: They are called on individual objects (instances) of the class.\n",
        "\n",
        "- Use case: Used when you need to access or modify instance-specific data (attributes) and perform actions related to the instance itself.\n",
        "\n",
        "- Example:'''\n",
        "\n",
        "class Car:\n",
        "        def __init__(self, make, model, year):\n",
        "            self.make = make\n",
        "            self.model = model\n",
        "            self.year = year\n",
        "\n",
        "        def display_info(self):\n",
        "            print(f\"Car Information: {self.year} {self.make} {self.model}\")\n",
        "\n",
        "car = Car(\"Toyota\", \"Camry\", 2022)\n",
        " car.display_info()  # Calling an instance method on the car object\n",
        "\n",
        "\n",
        "### 2. **Class Methods**:\n",
        "'''\n",
        "- Definition: Class methods are methods that are bound to the class itself, rather than instances of the class.\n",
        " They take the class (referred to as `cls`) as their first parameter, allowing them\n",
        " to access or modify class-level data (shared by all instances).\n",
        "\n",
        "- How to call: They can be called on the class itself or an instance,\n",
        "but they operate on the class, not on the instance.\n",
        "\n",
        "- Decorator: They are defined using the '@classmethod' decorator.\n",
        "\n",
        "- Use case: Used when you need to access or modify class-level data or create factory methods that return instances of the class.\n",
        "\n",
        "- Example:'''\n",
        "\n",
        "class Car:\n",
        "        total_cars = 0  # Class-level attribute\n",
        "\n",
        "        def __init__(self, make, model, year):\n",
        "            self.make = make\n",
        "            self.model = model\n",
        "            self.year = year\n",
        "            Car.total_cars += 1  # Modify class-level attribute\n",
        "\n",
        "        @classmethod\n",
        "        def display_total_cars(cls):\n",
        "            print(f\"Total cars: {cls.total_cars}\")\n",
        "car1 = Car(\"Toyota\", \"Camry\", 2022)\n",
        "car2 = Car(\"Honda\", \"Civic\", 2021)\n",
        "\n",
        "    Car.display_total_cars()  # Calling a class method on the class itself\n",
        "\n",
        "\n",
        "### Key Differences:\n",
        "'''- Instance Methods: Operate on individual instances of a class. They can access\n",
        " and modify instance attributes but can't directly modify class-level attributes (unless accessed through the class).\n",
        "\n",
        "- **Class Methods: Operate on the class itself and can modify class-level attributes.\n",
        "They don’t work with instance-specific data unless an instance is explicitly passed to them.\n",
        "\n",
        "In short, instance methods manage the behavior of individual objects, while class methods manage the behavior of the class as a whole."
      ],
      "metadata": {
        "id": "fjjFhY8xFEIO",
        "colab": {
          "base_uri": "https://localhost:8080/",
          "height": 106
        },
        "outputId": "b5a9152c-443a-45c0-ee35-a9d1521d9c68"
      },
      "execution_count": 19,
      "outputs": [
        {
          "output_type": "error",
          "ename": "IndentationError",
          "evalue": "unexpected indent (<ipython-input-19-fee55cbe254a>, line 24)",
          "traceback": [
            "\u001b[0;36m  File \u001b[0;32m\"<ipython-input-19-fee55cbe254a>\"\u001b[0;36m, line \u001b[0;32m24\u001b[0m\n\u001b[0;31m    car.display_info()  # Calling an instance method on the car object\u001b[0m\n\u001b[0m    ^\u001b[0m\n\u001b[0;31mIndentationError\u001b[0m\u001b[0;31m:\u001b[0m unexpected indent\n"
          ]
        }
      ]
    },
    {
      "cell_type": "code",
      "source": [
        "#4does Python implement method overloading? Give an exampl\n",
        "'''Python does not support method overloading in the same way as languages like Java or C++.\n",
        "In those languages, you can define multiple methods with the same name but different parameter lists\n",
        " (number or type of parameters). However, in Python, you can only define one method with a given name in a class, and it will overwrite any previous method with the same name.\n",
        "\n",
        "That said, Python achieves similar functionality by using default arguments, variable-length arguments (*args and **kwargs), or checking the types of arguments inside the method.\n",
        "\n",
        "Example using default arguments:\n",
        "You can simulate method overloading by using default arguments to handle different numbers of parameter'''\n",
        "class Calculator:\n",
        "    def add(self, a, b=0, c=0):\n",
        "        return a + b + c\n",
        "\n",
        "# Example usage\n",
        "calc = Calculator()\n",
        "\n",
        "print(calc.add(5))         # Output: 5 (only one argument)\n",
        "print(calc.add(5, 10))     # Output: 15 (two arguments)\n",
        "print(calc.add(5, 10, 15)) # Output: 30 (three arguments)\n"
      ],
      "metadata": {
        "id": "v6HTGIQ03d7Q",
        "colab": {
          "base_uri": "https://localhost:8080/"
        },
        "outputId": "cfd02735-a290-4f68-9e70-7caa360ea7b8"
      },
      "execution_count": 11,
      "outputs": [
        {
          "output_type": "stream",
          "name": "stdout",
          "text": [
            "5\n",
            "15\n",
            "30\n"
          ]
        }
      ]
    },
    {
      "cell_type": "code",
      "source": [
        "#5What are the three types of access modifiers in Python? How are they denoted.\n",
        "''' Public Access Modifier (Default)\n",
        "Denoted: No leading underscore (_).\n",
        "\n",
        "Description: By default, all members (attributes and methods) of a Python class are public.\n",
        "Public members are accessible from both within the class and outside the class (anywhere).\n",
        "'''\n",
        "\n",
        "class MyClass:\n",
        "    def __init__(self):\n",
        "        self.public_var = \"I am public\"  # Public attribute\n",
        "\n",
        "    def public_method(self):\n",
        "        print(\"I am a public method\")\n",
        "\n",
        "obj = MyClass()\n",
        "print(obj.public_var)         # Accessible\n",
        "obj.public_method()           # Accessible\n",
        "'''\n",
        "2. Protected Access Modifier\n",
        "Denoted: A single leading underscore (_).\n",
        "\n",
        "Description: Members prefixed with a single underscore are treated as protected. This is a convention to indicate that the member is intended for internal use by the class or its subclasses. However, Python does not enforce this, so these members are still accessible from outside the class but are discouraged from being accessed directly.\n",
        "'''\n",
        "class MyClass:\n",
        "    def __init__(self):\n",
        "        self._protected_var = \"I am protected\"  # Protected attribute\n",
        "\n",
        "    def _protected_method(self):\n",
        "        print(\"I am a protected method\")\n",
        "\n",
        "obj = MyClass()\n",
        "print(obj._protected_var)     # Accessible, but discouraged\n",
        "obj._protected_method()       # Accessible, but discouraged\n",
        "#In this case, _protected_var and _protected_method() can still be accessed from outside, but they are meant for use within the class or subclasses.\n",
        "\n",
        "'''3. Private Access Modifier\n",
        "Denoted: A double leading underscore (__).\n",
        "\n",
        "Description: Members prefixed with two leading underscores are considered private. Private members are not directly accessible from outside the class. This is achieved through name mangling, where the member's name is internally changed to _ClassName__member. This makes it harder (but not impossible) to access the member from outside the class.\n",
        "\n",
        "'''\n",
        "class MyClass:\n",
        "    def __init__(self):\n",
        "        self.__private_var = \"I am private\"  # Private attribute\n",
        "\n",
        "    def __private_method(self):\n",
        "        print(\"I am a private method\")\n",
        "\n",
        "obj = MyClass()\n",
        "# print(obj.__private_var)    # Raises AttributeError: 'MyClass' object has no attribute '__private_var'\n",
        "# obj.__private_method()      # Raises AttributeError: 'MyClass' object has no attribute '__private_method'\n",
        "\n",
        "# Access through name mangling (not recommended)\n",
        "print(obj._MyClass__private_var)  # Accessible using the mangled name\n",
        "obj._MyClass__private_method()    # Accessible using the mangled name"
      ],
      "metadata": {
        "id": "pbqdUxAr5gR3",
        "colab": {
          "base_uri": "https://localhost:8080/"
        },
        "outputId": "630bbd63-7f9c-492b-a1b1-8b70bc36a75c"
      },
      "execution_count": 10,
      "outputs": [
        {
          "output_type": "stream",
          "name": "stdout",
          "text": [
            "I am public\n",
            "I am a public method\n",
            "I am protected\n",
            "I am a protected method\n",
            "I am private\n",
            "I am a private method\n"
          ]
        }
      ]
    },
    {
      "cell_type": "code",
      "source": [
        "#6 Describe the five types of inheritance in Python. Provide a simple example of multiple inheritance\n",
        "'''In Python, inheritance allows a class to acquire properties (methods and attributes) from another class. This promotes code reuse and organization. Python supports five types of inheritance:\n",
        "\n",
        "## 1. Single Inheritance\n",
        "In single inheritance, a subclass inherits from only one superclass.\n",
        "\n",
        "Example:\n",
        "\n",
        "\n",
        "class Parent:\n",
        "    def greet(self):\n",
        "        print(\"Hello from Parent class\")\n",
        "\n",
        "class Child(Parent):\n",
        "    pass\n",
        "\n",
        "child = Child()\n",
        "child.greet()  # Output: Hello from Parent class\n",
        "\n",
        "### 2. **Multiple Inheritance**\n",
        "In multiple inheritance, a subclass inherits from more than one superclass. This can sometimes lead to issues like the Diamond Problem, but Python resolves it using the Method Resolution Order (MRO).\n",
        "\n",
        "Example:\n",
        "\n",
        "\n",
        "class Father:\n",
        "    def speak(self):\n",
        "        print(\"Father speaks\")\n",
        "\n",
        "class Mother:\n",
        "    def speak(self):\n",
        "        print(\"Mother speaks\")\n",
        "\n",
        "class Child(Father, Mother):\n",
        "    pass\n",
        "\n",
        "child = Child()\n",
        "child.speak()  # Output: Father speaks (based on MRO)\n",
        "```\n",
        "\n",
        "### 3. **Multilevel Inheritance**\n",
        "In multilevel inheritance, a class inherits from a superclass, and another class inherits from that subclass, forming a chain of inheritance.\n",
        "\n",
        "Example:e'''\n",
        "\n",
        "\n",
        "class Grandparent:\n",
        "    def greet(self):\n",
        "        print(\"Hello from Grandparent\")\n",
        "\n",
        "class Parent(Grandparent):\n",
        "    pass\n",
        "\n",
        "class Child(Parent):\n",
        "    pass\n",
        "\n",
        "child = Child()\n",
        "child.greet()  # Output: Hello from Grandparent\n",
        "\n",
        "\n",
        "### 4. Hierarchical Inheritance\n",
        "'''In hierarchical inheritance, multiple subclasses inherit from the same superclass.\n",
        "\n",
        "Example:'''\n",
        "\n",
        "\n",
        "class Parent:\n",
        "    def greet(self):\n",
        "        print(\"Hello from Parent\")\n",
        "\n",
        "class Child1(Parent):\n",
        "    pass\n",
        "\n",
        "class Child2(Parent):\n",
        "    pass\n",
        "\n",
        "child1 = Child1()\n",
        "child1.greet()  # Output: Hello from Parent\n",
        "\n",
        "child2 = Child2()\n",
        "child2.greet()  # Output: Hello from Parent\n",
        "#\n",
        "\n",
        "### 5. Hybrid Inheritance\n",
        "#Hybrid inheritance is a combination of two or more types of inheritance, such as multiple and multilevel inheritance, used together.\n",
        "\n",
        "#Example:\n",
        "\n",
        "class Grandparent:\n",
        "    def greet(self):\n",
        "        print(\"Hello from Grandparent\")\n",
        "\n",
        "class Parent1(Grandparent):\n",
        "    pass\n",
        "\n",
        "class Parent2(Grandparent):\n",
        "    pass\n",
        "\n",
        "class Child(Parent1, Parent2):\n",
        "    pass\n",
        "\n",
        "child = Child()\n",
        "child.greet()  # Output: Hello from Grandparent (MRO handles the conflict)\n",
        "\n",
        "\n",
        "### Multiple Inheritance Example\n",
        "\n",
        "\n",
        "class Animal:\n",
        "    def sound(self):\n",
        "        print(\"Animal makes sound\")\n",
        "\n",
        "class Dog:\n",
        "    def bark(self):\n",
        "        print(\"Dog barks\")\n",
        "\n",
        "class PetDog(Animal, Dog):\n",
        "    def greet(self):\n",
        "        print(\"Pet Dog greets\")\n",
        "\n",
        "# Creating an object of the PetDog class\n",
        "pet_dog = PetDog()\n",
        "pet_dog.sound()  # Output: Animal makes sound\n",
        "pet_dog.bark()   # Output: Dog barks\n",
        "pet_dog.greet()  # Output: Pet Dog greets\n"
      ],
      "metadata": {
        "id": "hEbuc9N8ZTRN",
        "colab": {
          "base_uri": "https://localhost:8080/"
        },
        "outputId": "93626345-7fa1-48f5-a1bd-05188bac05b6"
      },
      "execution_count": 20,
      "outputs": [
        {
          "output_type": "stream",
          "name": "stdout",
          "text": [
            "Hello from Grandparent\n",
            "Hello from Parent\n",
            "Hello from Parent\n",
            "Hello from Grandparent\n",
            "Animal makes sound\n",
            "Dog barks\n",
            "Pet Dog greets\n"
          ]
        }
      ]
    },
    {
      "cell_type": "markdown",
      "source": [],
      "metadata": {
        "id": "8xjLMMIt_36f"
      }
    },
    {
      "cell_type": "code",
      "source": [
        "#7What is the Method Resolution Order (MRO) in Python\n",
        "'''The Method Resolution Order (MRO) in Python is the order in which classes are searched when a method is called on an object. This is particularly important in the context of multiple inheritance, where a class can inherit from multiple parent classes.\n",
        "\n",
        "Python uses the C3 linearization algorithm to determine the MRO. This algorithm ensures a consistent order for method resolution by maintaining the following rules:\n",
        "\n",
        "Depth-first, left-to-right: It searches classes in a depth-first manner, following the order in which they are defined.\n",
        "Preservation of order: The order of base classes is preserved. If class A inherits from class B and C, and class B inherits from D, the order of resolution will reflect this hierarchy.\n",
        "No ambiguity: If a class appears in the MRO of a class, it should only appear once.\n",
        "You can view the MRO of a class using the __mro__ attribute or the mro() method. For example:\n",
        "\n",
        "'''\n",
        "class A:\n",
        "    pass\n",
        "\n",
        "class B(A):\n",
        "    pass\n",
        "\n",
        "class C(A):\n",
        "    pass\n",
        "\n",
        "class D(B, C):\n",
        "    pass\n",
        "\n",
        "print(D.__mro__)\n",
        "# Output: (<class '__main__.D'>, <class '__main__.B'>, <class '__main__.C'>, <class '__main__.A'>,<class 'object'>0)"
      ],
      "metadata": {
        "id": "Hd2qBbON_4Ky",
        "colab": {
          "base_uri": "https://localhost:8080/"
        },
        "outputId": "7ca623b1-040a-4bc2-ce21-bacb0952c218"
      },
      "execution_count": 8,
      "outputs": [
        {
          "output_type": "stream",
          "name": "stdout",
          "text": [
            "(<class '__main__.D'>, <class '__main__.B'>, <class '__main__.C'>, <class '__main__.A'>, <class 'object'>)\n"
          ]
        }
      ]
    },
    {
      "cell_type": "code",
      "source": [
        "#8 Create an abstract base class Shape with an abstr Circle and Rectangle that implement the area() me\n",
        "from abc import ABC, abstractmethod\n",
        "import math\n",
        "\n",
        "# Abstract base class\n",
        "class Shape(ABC):\n",
        "    @abstractmethod\n",
        "    def area(self):\n",
        "        \"\"\"Calculate the area of the shape.\"\"\"\n",
        "        pass\n",
        "\n",
        "# Circle class implementing Shape\n",
        "class Circle(Shape):\n",
        "    def __init__(self, radius):\n",
        "        self.radius = radius\n",
        "\n",
        "    def area(self):\n",
        "        \"\"\"Calculate the area of the circle.\"\"\"\n",
        "        return math.pi * (self.radius ** 2)\n",
        "\n",
        "# Rectangle class implementing Shape\n",
        "class Rectangle(Shape):\n",
        "    def __init__(self, width, height):\n",
        "        self.width = width\n",
        "        self.height = height\n",
        "\n",
        "    def area(self):\n",
        "        \"\"\"Calculate the area of the rectangle.\"\"\"\n",
        "        return self.width * self.height\n",
        "\n",
        "# Example usage\n",
        "if __name__ == \"__main__\":\n",
        "    circle = Circle(5)\n",
        "    rectangle = Rectangle(4, 6)\n",
        "\n",
        "    print(f\"Area of the circle: {circle.area():.2f}\")  # Area of the circle: 78.54\n",
        "    print(f\"Area of the rectangle: {rectangle.area()}\")  # Area of the rectangle: 24\n"
      ],
      "metadata": {
        "id": "jXmmdGhWLBWX",
        "colab": {
          "base_uri": "https://localhost:8080/"
        },
        "outputId": "2c326f67-57de-4c77-ffbd-bebf8219e2d2"
      },
      "execution_count": 9,
      "outputs": [
        {
          "output_type": "stream",
          "name": "stdout",
          "text": [
            "Area of the circle: 78.54\n",
            "Area of the rectangle: 24\n"
          ]
        }
      ]
    },
    {
      "cell_type": "code",
      "source": [
        "#9Demonstrate polymorphism by creating a function and print their areas\n",
        "from abc import ABC, abstractmethod\n",
        "import math\n",
        "\n",
        "# Abstract base class\n",
        "class Shape(ABC):\n",
        "    @abstractmethod\n",
        "    def area(self):\n",
        "        \"\"\"Calculate the area of the shape.\"\"\"\n",
        "        pass\n",
        "\n",
        "# Circle class implementing Shape\n",
        "class Circle(Shape):\n",
        "    def __init__(self, radius):\n",
        "        self.radius = radius\n",
        "\n",
        "    def area(self):\n",
        "        \"\"\"Calculate the area of the circle.\"\"\"\n",
        "        return math.pi * (self.radius ** 2)\n",
        "\n",
        "# Rectangle class implementing Shape\n",
        "class Rectangle(Shape):\n",
        "    def __init__(self, width, height):\n",
        "        self.width = width\n",
        "        self.height = height\n",
        "\n",
        "    def area(self):\n",
        "        \"\"\"Calculate the area of the rectangle.\"\"\"\n",
        "        return self.width * self.height\n",
        "\n",
        "# Function to print the area of a Shape\n",
        "def print_area(shape: Shape):\n",
        "    \"\"\"Print the area of the given shape.\"\"\"\n",
        "    print(f\"Area: {shape.area():.2f}\")\n",
        "\n",
        "# Example usage\n",
        "if __name__ == \"__main__\":\n",
        "    circle = Circle(5)\n",
        "    rectangle = Rectangle(4, 6)\n",
        "\n",
        "    # Demonstrating polymorphism\n",
        "    print_area(circle)     # Area: 78.54\n",
        "    print_area(rectangle)  # Area: 24.00\n"
      ],
      "metadata": {
        "id": "6jV-wGr2LzAV",
        "colab": {
          "base_uri": "https://localhost:8080/"
        },
        "outputId": "d5b0fd1c-ff72-40f2-d559-009520ebc4d4"
      },
      "execution_count": 21,
      "outputs": [
        {
          "output_type": "stream",
          "name": "stdout",
          "text": [
            "Area: 78.54\n",
            "Area: 24.00\n"
          ]
        }
      ]
    },
    {
      "cell_type": "code",
      "source": [
        "#10Implement encapsulation in a BankAccount class with private attributes for 'balance and account_number. Include methods for deposit, withdrawal, and balance inquiry\n",
        "class BankAccount:\n",
        "    def __init__(self, account_number, initial_balance=0):\n",
        "        self.__account_number = account_number  # Private attribute for account number\n",
        "        self.__balance = initial_balance          # Private attribute for balance\n",
        "\n",
        "    def deposit(self, amount):\n",
        "        \"\"\"Deposit money into the account.\"\"\"\n",
        "        if amount > 0:\n",
        "            self.__balance += amount\n",
        "            print(f\"Deposited: ${amount:.2f}. New balance: ${self.__balance:.2f}\")\n",
        "        else:\n",
        "            print(\"Deposit amount must be positive.\")\n",
        "\n",
        "    def withdraw(self, amount):\n",
        "        \"\"\"Withdraw money from the account.\"\"\"\n",
        "        if 0 < amount <= self.__balance:\n",
        "            self.__balance -= amount\n",
        "            print(f\"Withdrew: ${amount:.2f}. New balance: ${self.__balance:.2f}\")\n",
        "        else:\n",
        "            print(\"Invalid withdrawal amount or insufficient funds.\")\n",
        "\n",
        "    def get_balance(self):\n",
        "        \"\"\"Get the current balance.\"\"\"\n",
        "        return self.__balance\n",
        "\n",
        "    def get_account_number(self):\n",
        "        \"\"\"Get the account number (read-only).\"\"\"\n",
        "        return self.__account_number\n",
        "\n",
        "# Example usage\n",
        "if __name__ == \"__main__\":\n",
        "    account = BankAccount(\"123456789\", 1000)\n",
        "\n",
        "    # Display account number and initial balance\n",
        "    print(f\"Account Number: {account.get_account_number()}\")\n",
        "    print(f\"Initial Balance: ${account.get_balance():.2f}\")\n",
        "\n",
        "    # Perform some transactions\n",
        "    account.deposit(500)\n",
        "    account.withdraw(200)\n",
        "    account.withdraw(1500)  # This should show an error\n",
        "\n",
        "    # Check balance\n",
        "    print(f\"Final Balance: ${account.get_balance():.2f}\")\n"
      ],
      "metadata": {
        "id": "gvn7UQjfMb1k",
        "colab": {
          "base_uri": "https://localhost:8080/"
        },
        "outputId": "4303d822-a226-434f-fddc-7d38889d3c34"
      },
      "execution_count": 22,
      "outputs": [
        {
          "output_type": "stream",
          "name": "stdout",
          "text": [
            "Account Number: 123456789\n",
            "Initial Balance: $1000.00\n",
            "Deposited: $500.00. New balance: $1500.00\n",
            "Withdrew: $200.00. New balance: $1300.00\n",
            "Invalid withdrawal amount or insufficient funds.\n",
            "Final Balance: $1300.00\n"
          ]
        }
      ]
    },
    {
      "cell_type": "code",
      "source": [
        "#11Write a class that overrides the_str and add_magic methods. What will these me allow you to do\n",
        "class Person:\n",
        "    def __init__(self, name, age):\n",
        "        self.name = name\n",
        "        self.age = age\n",
        "\n",
        "    def __str__(self):\n",
        "        \"\"\"Return a user-friendly string representation of the Person.\"\"\"\n",
        "        return f\"{self.name}, Age: {self.age}\"\n",
        "\n",
        "    def __repr__(self):\n",
        "        \"\"\"Return an unambiguous string representation of the Person.\"\"\"\n",
        "        return f\"Person(name={self.name!r}, age={self.age!r})\"\n",
        "\n",
        "# Example usage\n",
        "if __name__ == \"__main__\":\n",
        "    person = Person(\"Alice\", 30)\n",
        "\n",
        "    # Using __str__\n",
        "    print(person)  # Calls __str__ method: \"Alice, Age: 30\"\n",
        "\n",
        "    # Using __repr__\n",
        "    print(repr(person))  # Calls __repr__ method: \"Person(name='Alice', age=30)\"\n",
        "'''\n",
        "Explanation:\n",
        "Class Definition: The Person class has two attributes: name and age.\n",
        "\n",
        "__str__ Method:\n",
        "\n",
        "This method is called when you use print(person).\n",
        "It returns a formatted string that is user-friendly, displaying the person's name\n",
        " and age in a readable format.\n",
        "__repr__ Method:\n",
        "\n",
        "This method is called when you use repr(person) or when you inspect the object in a console.\n",
        "It returns a more detailed string that includes the class name and the attributes, which can be useful for debugging or logging.\n",
        "Benefits:\n",
        "User-Friendly Output: The __str__ method allows for easily understandable output for users when printing objects.\n",
        "Debugging and Clarity: The __repr__ method provides a clear and detailed representation of the object, making it easier to understand its state and structure, especially when debugging or logging.\n",
        "Summary:\n",
        "By implementing both __str__ and __repr__, you enhance the usability of your class:\n",
        "\n",
        "Use __str__ for a user-friendly representation.\n",
        "Use __repr__ for a detailed, unambiguous representation useful for developers'''"
      ],
      "metadata": {
        "id": "ODABXwNVM77N",
        "colab": {
          "base_uri": "https://localhost:8080/",
          "height": 157
        },
        "outputId": "db9c4bb9-dd65-4821-e478-a6252eeb9cc8"
      },
      "execution_count": 28,
      "outputs": [
        {
          "output_type": "stream",
          "name": "stdout",
          "text": [
            "Alice, Age: 30\n",
            "Person(name='Alice', age=30)\n"
          ]
        },
        {
          "output_type": "execute_result",
          "data": {
            "text/plain": [
              "\"\\nExplanation:\\nClass Definition: The Person class has two attributes: name and age.\\n\\n__str__ Method:\\n\\nThis method is called when you use print(person).\\nIt returns a formatted string that is user-friendly, displaying the person's name\\n and age in a readable format.\\n__repr__ Method:\\n\\nThis method is called when you use repr(person) or when you inspect the object in a console.\\nIt returns a more detailed string that includes the class name and the attributes, which can be useful for debugging or logging.\\nBenefits:\\nUser-Friendly Output: The __str__ method allows for easily understandable output for users when printing objects.\\nDebugging and Clarity: The __repr__ method provides a clear and detailed representation of the object, making it easier to understand its state and structure, especially when debugging or logging.\\nSummary:\\nBy implementing both __str__ and __repr__, you enhance the usability of your class:\\n\\nUse __str__ for a user-friendly representation.\\nUse __repr__ for a detailed, unambiguous representation useful for developers\""
            ],
            "application/vnd.google.colaboratory.intrinsic+json": {
              "type": "string"
            }
          },
          "metadata": {},
          "execution_count": 28
        }
      ]
    },
    {
      "cell_type": "code",
      "source": [
        "#12 Create a decorator that measures and prints the execution time of a function\n",
        "import time\n",
        "\n",
        "def execution_time_decorator(func):\n",
        "    def wrapper(*args, **kwargs):\n",
        "        start_time = time.time()  # Record start time\n",
        "        result = func(*args, **kwargs)  # Execute the function\n",
        "        end_time = time.time()  # Record end time\n",
        "        execution_time = end_time - start_time  # Calculate execution time\n",
        "        print(f\"Execution time of {func.__name__}: {execution_time:.6f} seconds\")\n",
        "        return result  # Return the result of the function\n",
        "    return wrapper\n",
        "\n",
        "# Example usage of the decorator\n",
        "@execution_time_decorator\n",
        "def example_function(n):\n",
        "    total = 0\n",
        "    for i in range(n):\n",
        "        total += i\n",
        "    return total\n",
        "\n",
        "# Calling the function\n",
        "example_function(1000000)\n"
      ],
      "metadata": {
        "id": "Xi29ZuUwOnmt",
        "colab": {
          "base_uri": "https://localhost:8080/"
        },
        "outputId": "77f1697f-4033-4d21-c3be-94d6fc12d6e4"
      },
      "execution_count": 29,
      "outputs": [
        {
          "output_type": "stream",
          "name": "stdout",
          "text": [
            "Execution time of example_function: 0.069687 seconds\n"
          ]
        },
        {
          "output_type": "execute_result",
          "data": {
            "text/plain": [
              "499999500000"
            ]
          },
          "metadata": {},
          "execution_count": 29
        }
      ]
    },
    {
      "cell_type": "code",
      "source": [
        "#13\n",
        "#Explain the concept of the Diamond Problem in multiple inheritance. How does Python resolve\n",
        "#The Diamond Problem occurs in languages that support multiple inheritance, where a class inherits from more than one superclass.\n",
        "#This can create ambiguity when a method or attribute is defined in multiple parent classes, especially if those parent classes inherit from a common ancestor. The \"diamond\" shape is formed when inheritance flows from a common base class through multiple paths, leading to potential conflicts.\n",
        "\n",
        "### The Diamond Problem Example:\n",
        "'''Let's say we have a class structure like this:\n",
        "\n",
        "      A\n",
        "     / \\\n",
        "    B   C\n",
        "     \\ /\n",
        "      D\n",
        "\n",
        "\n",
        "- Class `B` and `C` both inherit from class `A`.\n",
        "- Class `D` inherits from both `B` and `C`.\n",
        "\n",
        "If class `A` defines a method, and class `D` tries to call that method, there can be ambiguity about which path to follow — through `B` or `C`. This is known as the **Diamond Problem**.\n",
        " Example in Python:'''\n",
        "\n",
        "\n",
        "class A:\n",
        "    def show(self):\n",
        "        print(\"Method from class A\")\n",
        "\n",
        "class B(A):\n",
        "    def show(self):\n",
        "        print(\"Method from class B\")\n",
        "\n",
        "class C(A):\n",
        "    def show(self):\n",
        "        print(\"Method from class C\")\n",
        "\n",
        "class D(B, C):\n",
        "    pass\n",
        "\n",
        "d = D()\n",
        "d.show()\n",
        "\n",
        "'''Here, class `D` inherits from both `B` and `C`, and both of these classes\n",
        " inherit from `A`.\n",
        "\n",
        "Method from class B\n",
        "\n",
        "\n",
        "In this case, Python resolves the ambiguity by following the Method Resolution Order (MRO), which is based on the **C3 linearization algorithm**.\n",
        "\n",
        "### Python’s Resolution: **Method Resolution Order (MRO)**\n",
        "Python uses the **C3 linearization algorithm to resolve the Diamond Problem.\n",
        "This algorithm determines the order in which base classes are searched when a method is called. The method resolution follows a consistent and predictable path, ensuring that the correct method is called based on the inheritance hierarchy.\n",
        "\n",
        "In the example above, the MRO for class `D` would be:\n",
        "\n",
        "D → B → C → A\n",
        "```\n",
        "\n",
        "So, when `d.show()` is called:\n",
        "1. Python checks if 'D' has a `show` method. It doesn't.\n",
        "2. Python then checks 'B'(since `B` is inherited before `C`), and finds `show`. Thus, the method from class `B` is executed.\n",
        "\n",
        "### How to View MRO in Python:\n",
        "You can check the Method Resolution Order of any class in Python using the `__mro__` attribute or the `mro()` method.\n",
        "\n",
        "\n",
        "print(D.__mro__)\n",
        "# or\n",
        "print(D.mro())\n",
        "\n",
        "Output:\n",
        "(<class '__main__.D'>, <class '__main__.B'>, <class '__main__.C'>, <class '__main__.A'>, <class 'object'>)\n",
        "\n",
        "\n",
        "This shows the order in which Python looks for methods in the inheritance hierarchy, effectively resolving the Diamond Problem.\n",
        "\n",
        "### Summary:\n",
        "- The Diamond Problem occurs in multiple inheritance when a method exists in multiple parent classes that share a common ancestor, causing ambiguity.\n",
        "- Python resolves this issue using the C3 linearization (MRO)**, which determines the order in which classes are searched for methods.\n",
        "- The MRO ensures a consistent, predictable search order for methods and attributes, avoiding the confusion seen in languages without such resolution mechanisms.'''"
      ],
      "metadata": {
        "id": "vtfF576AVIWf",
        "colab": {
          "base_uri": "https://localhost:8080/",
          "height": 140
        },
        "outputId": "6f6a76d0-a235-4561-8279-689f7668dcf3"
      },
      "execution_count": 33,
      "outputs": [
        {
          "output_type": "stream",
          "name": "stdout",
          "text": [
            "Method from class B\n"
          ]
        },
        {
          "output_type": "execute_result",
          "data": {
            "text/plain": [
              "\"Here, class `D` inherits from both `B` and `C`, and both of these classes\\n inherit from `A`.\\n\\nMethod from class B\\n\\n\\nIn this case, Python resolves the ambiguity by following the Method Resolution Order (MRO), which is based on the **C3 linearization algorithm**.\\n\\n### Python’s Resolution: **Method Resolution Order (MRO)**\\nPython uses the **C3 linearization algorithm to resolve the Diamond Problem.\\nThis algorithm determines the order in which base classes are searched when a method is called. The method resolution follows a consistent and predictable path, ensuring that the correct method is called based on the inheritance hierarchy.\\n\\nIn the example above, the MRO for class `D` would be:\\n\\nD → B → C → A\\n```\\n\\nSo, when `d.show()` is called:\\n1. Python checks if 'D' has a `show` method. It doesn't.\\n2. Python then checks 'B'(since `B` is inherited before `C`), and finds `show`. Thus, the method from class `B` is executed.\\n\\n### How to View MRO in Python:\\nYou can check the Method Resolution Order of any class in Python using the `__mro__` attribute or the `mro()` method.\\n\\n\\nprint(D.__mro__)\\n# or\\nprint(D.mro())\\n\\nOutput:\\n(<class '__main__.D'>, <class '__main__.B'>, <class '__main__.C'>, <class '__main__.A'>, <class 'object'>)\\n\\n\\nThis shows the order in which Python looks for methods in the inheritance hierarchy, effectively resolving the Diamond Problem.\\n\\n### Summary:\\n- The Diamond Problem occurs in multiple inheritance when a method exists in multiple parent classes that share a common ancestor, causing ambiguity.\\n- Python resolves this issue using the C3 linearization (MRO)**, which determines the order in which classes are searched for methods.\\n- The MRO ensures a consistent, predictable search order for methods and attributes, avoiding the confusion seen in languages without such resolution mechanisms.\""
            ],
            "application/vnd.google.colaboratory.intrinsic+json": {
              "type": "string"
            }
          },
          "metadata": {},
          "execution_count": 33
        }
      ]
    },
    {
      "cell_type": "code",
      "source": [
        "#14 Write a class method that keeps track of the number of instances created from a class\n",
        "class MyClass:\n",
        "    # Class variable to keep track of the number of instances\n",
        "    instance_count = 0\n",
        "\n",
        "    def __init__(self):\n",
        "        # Increment the class variable every time a new instance is created\n",
        "        MyClass.instance_count += 1\n",
        "\n",
        "    # Class method to return the number of instances\n",
        "    @classmethod\n",
        "    def get_instance_count(cls):\n",
        "        return cls.instance_count\n",
        "\n",
        "# Example usage\n",
        "obj1 = MyClass()\n",
        "obj2 = MyClass()\n",
        "obj3 = MyClass()\n",
        "\n",
        "print(MyClass.get_instance_count())  # Output: 3\n"
      ],
      "metadata": {
        "id": "fDYiNHd2Yi1v",
        "colab": {
          "base_uri": "https://localhost:8080/"
        },
        "outputId": "1d26a5f9-b726-43a5-8288-4176926570a3"
      },
      "execution_count": 34,
      "outputs": [
        {
          "output_type": "stream",
          "name": "stdout",
          "text": [
            "3\n"
          ]
        }
      ]
    },
    {
      "cell_type": "code",
      "source": [
        "# 15Implement a static method in a class that checks if a given year is a leap year\n",
        "class DateUtils:\n",
        "    @staticmethod\n",
        "    def is_leap_year(year):\n",
        "        # Leap year check logic\n",
        "        if (year % 4 == 0 and year % 100 != 0) or (year % 400 == 0):\n",
        "            return True\n",
        "        return False\n",
        "\n",
        "# Example usage\n",
        "print(DateUtils.is_leap_year(2020))  # Output: True (2020 is a leap year)\n",
        "print(DateUtils.is_leap_year(2021))  # Output: False (2021 is not a leap year)\n",
        "print(DateUtils.is_leap_year(1900))  # Output: False (1900 is not a leap year)\n",
        "print(DateUtils.is_leap_year(2000))  # Output: True (2000 is a leap year)\n"
      ],
      "metadata": {
        "id": "4rWinBdYYupx",
        "colab": {
          "base_uri": "https://localhost:8080/"
        },
        "outputId": "21108d47-5dec-479e-c92e-b75ae50dfc89"
      },
      "execution_count": 35,
      "outputs": [
        {
          "output_type": "stream",
          "name": "stdout",
          "text": [
            "True\n",
            "False\n",
            "False\n",
            "True\n"
          ]
        }
      ]
    }
  ]
}